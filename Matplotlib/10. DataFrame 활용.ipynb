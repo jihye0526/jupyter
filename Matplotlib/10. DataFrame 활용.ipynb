{
 "cells": [
  {
   "cell_type": "markdown",
   "id": "9c233a28",
   "metadata": {},
   "source": [
    "# 10. DataFrame 활용"
   ]
  },
  {
   "cell_type": "code",
   "execution_count": 1,
   "id": "19783b40",
   "metadata": {},
   "outputs": [],
   "source": [
    "import pandas as pd"
   ]
  },
  {
   "cell_type": "code",
   "execution_count": 2,
   "id": "34687816",
   "metadata": {},
   "outputs": [],
   "source": [
    "import matplotlib.pyplot as plt\n",
    "import matplotlib\n",
    "matplotlib.rcParams['font.family'] = 'Malgun Gothic' # Windows\n",
    "matplotlib.rcParams['font.size'] = 15 # 글자 크기\n",
    "matplotlib.rcParams['axes.unicode_minus'] = False # 한글 폰트 사용 시, 마이너스 깨짐 현상을 해결"
   ]
  },
  {
   "cell_type": "code",
   "execution_count": 3,
   "id": "53df4cf4",
   "metadata": {},
   "outputs": [
    {
     "data": {
      "text/html": [
       "<div>\n",
       "<style scoped>\n",
       "    .dataframe tbody tr th:only-of-type {\n",
       "        vertical-align: middle;\n",
       "    }\n",
       "\n",
       "    .dataframe tbody tr th {\n",
       "        vertical-align: top;\n",
       "    }\n",
       "\n",
       "    .dataframe thead th {\n",
       "        text-align: right;\n",
       "    }\n",
       "</style>\n",
       "<table border=\"1\" class=\"dataframe\">\n",
       "  <thead>\n",
       "    <tr style=\"text-align: right;\">\n",
       "      <th></th>\n",
       "      <th>지원번호</th>\n",
       "      <th>이름</th>\n",
       "      <th>활동명</th>\n",
       "      <th>나이</th>\n",
       "      <th>유닛</th>\n",
       "      <th>유닛2</th>\n",
       "      <th>MBTI</th>\n",
       "      <th>생일(월)</th>\n",
       "    </tr>\n",
       "  </thead>\n",
       "  <tbody>\n",
       "    <tr>\n",
       "      <th>0</th>\n",
       "      <td>1번</td>\n",
       "      <td>최승철</td>\n",
       "      <td>S.COUPS</td>\n",
       "      <td>27</td>\n",
       "      <td>힙합팀</td>\n",
       "      <td>리더즈</td>\n",
       "      <td>INFP</td>\n",
       "      <td>8</td>\n",
       "    </tr>\n",
       "    <tr>\n",
       "      <th>1</th>\n",
       "      <td>2번</td>\n",
       "      <td>윤정한</td>\n",
       "      <td>JEONGHAN</td>\n",
       "      <td>27</td>\n",
       "      <td>보컬팀</td>\n",
       "      <td>NaN</td>\n",
       "      <td>ISFJ</td>\n",
       "      <td>10</td>\n",
       "    </tr>\n",
       "    <tr>\n",
       "      <th>2</th>\n",
       "      <td>3번</td>\n",
       "      <td>홍지수</td>\n",
       "      <td>JOSHUA</td>\n",
       "      <td>27</td>\n",
       "      <td>보컬팀</td>\n",
       "      <td>NaN</td>\n",
       "      <td>ENFJ</td>\n",
       "      <td>12</td>\n",
       "    </tr>\n",
       "    <tr>\n",
       "      <th>3</th>\n",
       "      <td>4번</td>\n",
       "      <td>문준휘</td>\n",
       "      <td>JUN</td>\n",
       "      <td>26</td>\n",
       "      <td>퍼포팀</td>\n",
       "      <td>NaN</td>\n",
       "      <td>INFP</td>\n",
       "      <td>6</td>\n",
       "    </tr>\n",
       "    <tr>\n",
       "      <th>4</th>\n",
       "      <td>5번</td>\n",
       "      <td>권순영</td>\n",
       "      <td>HOSHI</td>\n",
       "      <td>26</td>\n",
       "      <td>퍼포팀</td>\n",
       "      <td>리더즈, 부석순</td>\n",
       "      <td>INFP</td>\n",
       "      <td>6</td>\n",
       "    </tr>\n",
       "    <tr>\n",
       "      <th>5</th>\n",
       "      <td>6번</td>\n",
       "      <td>전원우</td>\n",
       "      <td>WONWOO</td>\n",
       "      <td>26</td>\n",
       "      <td>힙합팀</td>\n",
       "      <td>NaN</td>\n",
       "      <td>INFJ</td>\n",
       "      <td>7</td>\n",
       "    </tr>\n",
       "    <tr>\n",
       "      <th>6</th>\n",
       "      <td>7번</td>\n",
       "      <td>이지훈</td>\n",
       "      <td>WOOZI</td>\n",
       "      <td>26</td>\n",
       "      <td>보컬팀</td>\n",
       "      <td>리더즈</td>\n",
       "      <td>INFJ</td>\n",
       "      <td>11</td>\n",
       "    </tr>\n",
       "    <tr>\n",
       "      <th>7</th>\n",
       "      <td>8번</td>\n",
       "      <td>서명호</td>\n",
       "      <td>THE 8</td>\n",
       "      <td>25</td>\n",
       "      <td>퍼포팀</td>\n",
       "      <td>NaN</td>\n",
       "      <td>INFJ</td>\n",
       "      <td>11</td>\n",
       "    </tr>\n",
       "    <tr>\n",
       "      <th>8</th>\n",
       "      <td>9번</td>\n",
       "      <td>김민규</td>\n",
       "      <td>MINGYU</td>\n",
       "      <td>25</td>\n",
       "      <td>힙합팀</td>\n",
       "      <td>NaN</td>\n",
       "      <td>ENFJ</td>\n",
       "      <td>4</td>\n",
       "    </tr>\n",
       "    <tr>\n",
       "      <th>9</th>\n",
       "      <td>10번</td>\n",
       "      <td>이석민</td>\n",
       "      <td>DK</td>\n",
       "      <td>25</td>\n",
       "      <td>보컬팀</td>\n",
       "      <td>부석순</td>\n",
       "      <td>INFP</td>\n",
       "      <td>2</td>\n",
       "    </tr>\n",
       "    <tr>\n",
       "      <th>10</th>\n",
       "      <td>11번</td>\n",
       "      <td>부승관</td>\n",
       "      <td>SEUNGKWAN</td>\n",
       "      <td>24</td>\n",
       "      <td>보컬팀</td>\n",
       "      <td>부석순</td>\n",
       "      <td>ENFP</td>\n",
       "      <td>1</td>\n",
       "    </tr>\n",
       "    <tr>\n",
       "      <th>11</th>\n",
       "      <td>12번</td>\n",
       "      <td>최한솔</td>\n",
       "      <td>VERNON</td>\n",
       "      <td>24</td>\n",
       "      <td>힙합팀</td>\n",
       "      <td>NaN</td>\n",
       "      <td>ENFP</td>\n",
       "      <td>2</td>\n",
       "    </tr>\n",
       "    <tr>\n",
       "      <th>12</th>\n",
       "      <td>13번</td>\n",
       "      <td>이찬</td>\n",
       "      <td>DINO</td>\n",
       "      <td>23</td>\n",
       "      <td>퍼포팀</td>\n",
       "      <td>NaN</td>\n",
       "      <td>ENFJ</td>\n",
       "      <td>2</td>\n",
       "    </tr>\n",
       "  </tbody>\n",
       "</table>\n",
       "</div>"
      ],
      "text/plain": [
       "   지원번호   이름        활동명  나이   유닛       유닛2  MBTI  생일(월)\n",
       "0    1번  최승철    S.COUPS  27  힙합팀       리더즈  INFP      8\n",
       "1    2번  윤정한   JEONGHAN  27  보컬팀       NaN  ISFJ     10\n",
       "2    3번  홍지수     JOSHUA  27  보컬팀       NaN  ENFJ     12\n",
       "3    4번  문준휘        JUN  26  퍼포팀       NaN  INFP      6\n",
       "4    5번  권순영      HOSHI  26  퍼포팀  리더즈, 부석순  INFP      6\n",
       "5    6번  전원우     WONWOO  26  힙합팀       NaN  INFJ      7\n",
       "6    7번  이지훈      WOOZI  26  보컬팀       리더즈  INFJ     11\n",
       "7    8번  서명호      THE 8  25  퍼포팀       NaN  INFJ     11\n",
       "8    9번  김민규     MINGYU  25  힙합팀       NaN  ENFJ      4\n",
       "9   10번  이석민         DK  25  보컬팀       부석순  INFP      2\n",
       "10  11번  부승관  SEUNGKWAN  24  보컬팀       부석순  ENFP      1\n",
       "11  12번  최한솔     VERNON  24  힙합팀       NaN  ENFP      2\n",
       "12  13번   이찬       DINO  23  퍼포팀       NaN  ENFJ      2"
      ]
     },
     "execution_count": 3,
     "metadata": {},
     "output_type": "execute_result"
    }
   ],
   "source": [
    "df = pd.read_excel('../Pandas/seventeen.xlsx')\n",
    "df"
   ]
  },
  {
   "cell_type": "code",
   "execution_count": 5,
   "id": "0dcdd995",
   "metadata": {},
   "outputs": [
    {
     "data": {
      "text/plain": [
       "([0, 1, 2, 3, 4, 5, 6, 7, 8, 9, 10, 11, 12],\n",
       " [Text(0, 0, ''),\n",
       "  Text(0, 0, ''),\n",
       "  Text(0, 0, ''),\n",
       "  Text(0, 0, ''),\n",
       "  Text(0, 0, ''),\n",
       "  Text(0, 0, ''),\n",
       "  Text(0, 0, ''),\n",
       "  Text(0, 0, ''),\n",
       "  Text(0, 0, ''),\n",
       "  Text(0, 0, ''),\n",
       "  Text(0, 0, ''),\n",
       "  Text(0, 0, ''),\n",
       "  Text(0, 0, '')])"
      ]
     },
     "execution_count": 5,
     "metadata": {},
     "output_type": "execute_result"
    },
    {
     "data": {
      "image/png": "[encoded data removed]",
      "text/plain": [
       "<Figure size 432x288 with 1 Axes>"
      ]
     },
     "metadata": {
      "needs_background": "light"
     },
     "output_type": "display_data"
    }
   ],
   "source": [
    "plt.plot(df['지원번호'], df['나이'])\n",
    "plt.xticks(rotation=45)"
   ]
  },
  {
   "cell_type": "code",
   "execution_count": 6,
   "id": "626a6a38",
   "metadata": {},
   "outputs": [
    {
     "data": {
      "text/plain": [
       "([0, 1, 2, 3, 4, 5, 6, 7, 8, 9, 10, 11, 12],\n",
       " [Text(0, 0, ''),\n",
       "  Text(0, 0, ''),\n",
       "  Text(0, 0, ''),\n",
       "  Text(0, 0, ''),\n",
       "  Text(0, 0, ''),\n",
       "  Text(0, 0, ''),\n",
       "  Text(0, 0, ''),\n",
       "  Text(0, 0, ''),\n",
       "  Text(0, 0, ''),\n",
       "  Text(0, 0, ''),\n",
       "  Text(0, 0, ''),\n",
       "  Text(0, 0, ''),\n",
       "  Text(0, 0, '')])"
      ]
     },
     "execution_count": 6,
     "metadata": {},
     "output_type": "execute_result"
    },
    {
     "data": {
      "image/png": "[encoded data removed]",
      "text/plain": [
       "<Figure size 432x288 with 1 Axes>"
      ]
     },
     "metadata": {
      "needs_background": "light"
     },
     "output_type": "display_data"
    }
   ],
   "source": [
    "plt.plot(df['지원번호'], df['나이'])\n",
    "plt.plot(df['지원번호'], df['생일(월)'])\n",
    "\n",
    "plt.xticks(rotation=45)"
   ]
  },
  {
   "cell_type": "code",
   "execution_count": 14,
   "id": "2d41a0c2",
   "metadata": {},
   "outputs": [
    {
     "data": {
      "image/png": "[encoded data removed]",
      "text/plain": [
       "<Figure size 432x288 with 1 Axes>"
      ]
     },
     "metadata": {
      "needs_background": "light"
     },
     "output_type": "display_data"
    }
   ],
   "source": [
    "plt.plot(df['지원번호'], df['나이'])\n",
    "plt.plot(df['지원번호'], df['생일(월)'])\n",
    "\n",
    "plt.xticks(rotation=45)\n",
    "plt.grid(axis='y', color='gray', alpha=0.5, ls=':', linewidth=2) # 격자"
   ]
  }
 ],
 "metadata": {
  "kernelspec": {
   "display_name": "Python 3",
   "language": "python",
   "name": "python3"
  },
  "language_info": {
   "codemirror_mode": {
    "name": "ipython",
    "version": 3
   },
   "file_extension": ".py",
   "mimetype": "text/x-python",
   "name": "python",
   "nbconvert_exporter": "python",
   "pygments_lexer": "ipython3",
   "version": "3.8.8"
  }
 },
 "nbformat": 4,
 "nbformat_minor": 5
}
