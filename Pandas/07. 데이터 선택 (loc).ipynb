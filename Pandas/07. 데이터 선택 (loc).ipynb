{
 "cells": [
  {
   "cell_type": "markdown",
   "id": "48c06e0f",
   "metadata": {},
   "source": [
    "# 7. 데이터 선택 (loc)\n",
    "이름을 이용하여 원하는 row 에서 원하는 col 선택"
   ]
  },
  {
   "cell_type": "code",
   "execution_count": 2,
   "id": "abec3d38",
   "metadata": {},
   "outputs": [
    {
     "data": {
      "text/html": [
       "<div>\n",
       "<style scoped>\n",
       "    .dataframe tbody tr th:only-of-type {\n",
       "        vertical-align: middle;\n",
       "    }\n",
       "\n",
       "    .dataframe tbody tr th {\n",
       "        vertical-align: top;\n",
       "    }\n",
       "\n",
       "    .dataframe thead th {\n",
       "        text-align: right;\n",
       "    }\n",
       "</style>\n",
       "<table border=\"1\" class=\"dataframe\">\n",
       "  <thead>\n",
       "    <tr style=\"text-align: right;\">\n",
       "      <th></th>\n",
       "      <th>이름</th>\n",
       "      <th>유닛</th>\n",
       "      <th>나이</th>\n",
       "      <th>생일(월)</th>\n",
       "    </tr>\n",
       "    <tr>\n",
       "      <th>지원번호</th>\n",
       "      <th></th>\n",
       "      <th></th>\n",
       "      <th></th>\n",
       "      <th></th>\n",
       "    </tr>\n",
       "  </thead>\n",
       "  <tbody>\n",
       "    <tr>\n",
       "      <th>1번</th>\n",
       "      <td>최승철</td>\n",
       "      <td>힙합팀</td>\n",
       "      <td>27</td>\n",
       "      <td>8</td>\n",
       "    </tr>\n",
       "    <tr>\n",
       "      <th>2번</th>\n",
       "      <td>윤정한</td>\n",
       "      <td>보컬팀</td>\n",
       "      <td>27</td>\n",
       "      <td>10</td>\n",
       "    </tr>\n",
       "    <tr>\n",
       "      <th>3번</th>\n",
       "      <td>홍지수</td>\n",
       "      <td>보컬팀</td>\n",
       "      <td>27</td>\n",
       "      <td>12</td>\n",
       "    </tr>\n",
       "    <tr>\n",
       "      <th>4번</th>\n",
       "      <td>문준휘</td>\n",
       "      <td>퍼포팀</td>\n",
       "      <td>26</td>\n",
       "      <td>6</td>\n",
       "    </tr>\n",
       "    <tr>\n",
       "      <th>5번</th>\n",
       "      <td>전원우</td>\n",
       "      <td>힙합팀</td>\n",
       "      <td>26</td>\n",
       "      <td>7</td>\n",
       "    </tr>\n",
       "    <tr>\n",
       "      <th>6번</th>\n",
       "      <td>권순영</td>\n",
       "      <td>퍼포팀</td>\n",
       "      <td>26</td>\n",
       "      <td>6</td>\n",
       "    </tr>\n",
       "    <tr>\n",
       "      <th>7번</th>\n",
       "      <td>이지훈</td>\n",
       "      <td>보컬팀</td>\n",
       "      <td>26</td>\n",
       "      <td>11</td>\n",
       "    </tr>\n",
       "    <tr>\n",
       "      <th>8번</th>\n",
       "      <td>서명호</td>\n",
       "      <td>퍼포팀</td>\n",
       "      <td>25</td>\n",
       "      <td>11</td>\n",
       "    </tr>\n",
       "    <tr>\n",
       "      <th>9번</th>\n",
       "      <td>김민규</td>\n",
       "      <td>힙합팀</td>\n",
       "      <td>25</td>\n",
       "      <td>4</td>\n",
       "    </tr>\n",
       "    <tr>\n",
       "      <th>10번</th>\n",
       "      <td>이석민</td>\n",
       "      <td>보컬팀</td>\n",
       "      <td>25</td>\n",
       "      <td>2</td>\n",
       "    </tr>\n",
       "    <tr>\n",
       "      <th>11번</th>\n",
       "      <td>부승관</td>\n",
       "      <td>보컬팀</td>\n",
       "      <td>24</td>\n",
       "      <td>1</td>\n",
       "    </tr>\n",
       "    <tr>\n",
       "      <th>12번</th>\n",
       "      <td>최한솔</td>\n",
       "      <td>힙합팀</td>\n",
       "      <td>24</td>\n",
       "      <td>2</td>\n",
       "    </tr>\n",
       "    <tr>\n",
       "      <th>13번</th>\n",
       "      <td>이찬</td>\n",
       "      <td>퍼포팀</td>\n",
       "      <td>23</td>\n",
       "      <td>2</td>\n",
       "    </tr>\n",
       "  </tbody>\n",
       "</table>\n",
       "</div>"
      ],
      "text/plain": [
       "       이름   유닛  나이  생일(월)\n",
       "지원번호                     \n",
       "1번    최승철  힙합팀  27      8\n",
       "2번    윤정한  보컬팀  27     10\n",
       "3번    홍지수  보컬팀  27     12\n",
       "4번    문준휘  퍼포팀  26      6\n",
       "5번    전원우  힙합팀  26      7\n",
       "6번    권순영  퍼포팀  26      6\n",
       "7번    이지훈  보컬팀  26     11\n",
       "8번    서명호  퍼포팀  25     11\n",
       "9번    김민규  힙합팀  25      4\n",
       "10번   이석민  보컬팀  25      2\n",
       "11번   부승관  보컬팀  24      1\n",
       "12번   최한솔  힙합팀  24      2\n",
       "13번    이찬  퍼포팀  23      2"
      ]
     },
     "execution_count": 2,
     "metadata": {},
     "output_type": "execute_result"
    }
   ],
   "source": [
    "import pandas as pd\n",
    "df = pd.read_excel('seventeen.xlsx', index_col = '지원번호')\n",
    "df"
   ]
  },
  {
   "cell_type": "code",
   "execution_count": 3,
   "id": "546897ba",
   "metadata": {},
   "outputs": [
    {
     "data": {
      "text/plain": [
       "이름       최승철\n",
       "유닛       힙합팀\n",
       "나이        27\n",
       "생일(월)      8\n",
       "Name: 1번, dtype: object"
      ]
     },
     "execution_count": 3,
     "metadata": {},
     "output_type": "execute_result"
    }
   ],
   "source": [
    "df.loc['1번'] # index 1번에 해당하는 전체 데이터"
   ]
  },
  {
   "cell_type": "code",
   "execution_count": 4,
   "id": "e09f4b6a",
   "metadata": {},
   "outputs": [
    {
     "data": {
      "text/plain": [
       "이름       이지훈\n",
       "유닛       보컬팀\n",
       "나이        26\n",
       "생일(월)     11\n",
       "Name: 7번, dtype: object"
      ]
     },
     "execution_count": 4,
     "metadata": {},
     "output_type": "execute_result"
    }
   ],
   "source": [
    "df.loc['7번'] # index 5번에 해당하는 전체 데이터"
   ]
  },
  {
   "cell_type": "code",
   "execution_count": 5,
   "id": "e2d059fe",
   "metadata": {},
   "outputs": [
    {
     "data": {
      "text/plain": [
       "'퍼포팀'"
      ]
     },
     "execution_count": 5,
     "metadata": {},
     "output_type": "execute_result"
    }
   ],
   "source": [
    "df.loc['13번', '유닛'] # index 13번에 해당하는 유닛 데이터"
   ]
  },
  {
   "cell_type": "code",
   "execution_count": 6,
   "id": "2c61ae4a",
   "metadata": {},
   "outputs": [
    {
     "data": {
      "text/plain": [
       "지원번호\n",
       "1번     힙합팀\n",
       "13번    퍼포팀\n",
       "Name: 유닛, dtype: object"
      ]
     },
     "execution_count": 6,
     "metadata": {},
     "output_type": "execute_result"
    }
   ],
   "source": [
    "df.loc[['1번', '13번'], '유닛'] # index 1번, 13번에 해당하는 유닛 데이터"
   ]
  },
  {
   "cell_type": "code",
   "execution_count": 7,
   "id": "11943a10",
   "metadata": {},
   "outputs": [
    {
     "data": {
      "text/html": [
       "<div>\n",
       "<style scoped>\n",
       "    .dataframe tbody tr th:only-of-type {\n",
       "        vertical-align: middle;\n",
       "    }\n",
       "\n",
       "    .dataframe tbody tr th {\n",
       "        vertical-align: top;\n",
       "    }\n",
       "\n",
       "    .dataframe thead th {\n",
       "        text-align: right;\n",
       "    }\n",
       "</style>\n",
       "<table border=\"1\" class=\"dataframe\">\n",
       "  <thead>\n",
       "    <tr style=\"text-align: right;\">\n",
       "      <th></th>\n",
       "      <th>이름</th>\n",
       "      <th>유닛</th>\n",
       "    </tr>\n",
       "    <tr>\n",
       "      <th>지원번호</th>\n",
       "      <th></th>\n",
       "      <th></th>\n",
       "    </tr>\n",
       "  </thead>\n",
       "  <tbody>\n",
       "    <tr>\n",
       "      <th>1번</th>\n",
       "      <td>최승철</td>\n",
       "      <td>힙합팀</td>\n",
       "    </tr>\n",
       "    <tr>\n",
       "      <th>13번</th>\n",
       "      <td>이찬</td>\n",
       "      <td>퍼포팀</td>\n",
       "    </tr>\n",
       "  </tbody>\n",
       "</table>\n",
       "</div>"
      ],
      "text/plain": [
       "       이름   유닛\n",
       "지원번호          \n",
       "1번    최승철  힙합팀\n",
       "13번    이찬  퍼포팀"
      ]
     },
     "execution_count": 7,
     "metadata": {},
     "output_type": "execute_result"
    }
   ],
   "source": [
    "df.loc[['1번', '13번'], ['이름', '유닛']] # index 1번, 13번에 해당하는 이름, 유닛 데이터"
   ]
  },
  {
   "cell_type": "code",
   "execution_count": 9,
   "id": "c4e38747",
   "metadata": {},
   "outputs": [
    {
     "data": {
      "text/html": [
       "<div>\n",
       "<style scoped>\n",
       "    .dataframe tbody tr th:only-of-type {\n",
       "        vertical-align: middle;\n",
       "    }\n",
       "\n",
       "    .dataframe tbody tr th {\n",
       "        vertical-align: top;\n",
       "    }\n",
       "\n",
       "    .dataframe thead th {\n",
       "        text-align: right;\n",
       "    }\n",
       "</style>\n",
       "<table border=\"1\" class=\"dataframe\">\n",
       "  <thead>\n",
       "    <tr style=\"text-align: right;\">\n",
       "      <th></th>\n",
       "      <th>유닛</th>\n",
       "      <th>나이</th>\n",
       "      <th>생일(월)</th>\n",
       "    </tr>\n",
       "    <tr>\n",
       "      <th>지원번호</th>\n",
       "      <th></th>\n",
       "      <th></th>\n",
       "      <th></th>\n",
       "    </tr>\n",
       "  </thead>\n",
       "  <tbody>\n",
       "    <tr>\n",
       "      <th>1번</th>\n",
       "      <td>힙합팀</td>\n",
       "      <td>27</td>\n",
       "      <td>8</td>\n",
       "    </tr>\n",
       "    <tr>\n",
       "      <th>2번</th>\n",
       "      <td>보컬팀</td>\n",
       "      <td>27</td>\n",
       "      <td>10</td>\n",
       "    </tr>\n",
       "    <tr>\n",
       "      <th>3번</th>\n",
       "      <td>보컬팀</td>\n",
       "      <td>27</td>\n",
       "      <td>12</td>\n",
       "    </tr>\n",
       "    <tr>\n",
       "      <th>4번</th>\n",
       "      <td>퍼포팀</td>\n",
       "      <td>26</td>\n",
       "      <td>6</td>\n",
       "    </tr>\n",
       "    <tr>\n",
       "      <th>5번</th>\n",
       "      <td>힙합팀</td>\n",
       "      <td>26</td>\n",
       "      <td>7</td>\n",
       "    </tr>\n",
       "    <tr>\n",
       "      <th>6번</th>\n",
       "      <td>퍼포팀</td>\n",
       "      <td>26</td>\n",
       "      <td>6</td>\n",
       "    </tr>\n",
       "    <tr>\n",
       "      <th>7번</th>\n",
       "      <td>보컬팀</td>\n",
       "      <td>26</td>\n",
       "      <td>11</td>\n",
       "    </tr>\n",
       "  </tbody>\n",
       "</table>\n",
       "</div>"
      ],
      "text/plain": [
       "       유닛  나이  생일(월)\n",
       "지원번호                \n",
       "1번    힙합팀  27      8\n",
       "2번    보컬팀  27     10\n",
       "3번    보컬팀  27     12\n",
       "4번    퍼포팀  26      6\n",
       "5번    힙합팀  26      7\n",
       "6번    퍼포팀  26      6\n",
       "7번    보컬팀  26     11"
      ]
     },
     "execution_count": 9,
     "metadata": {},
     "output_type": "execute_result"
    }
   ],
   "source": [
    "df.loc['1번':'7번', '유닛':'생일(월)'] # indes 1번부터 7번까지, 유닛부터 생일(월)까지 데이터"
   ]
  }
 ],
 "metadata": {
  "kernelspec": {
   "display_name": "Python 3",
   "language": "python",
   "name": "python3"
  },
  "language_info": {
   "codemirror_mode": {
    "name": "ipython",
    "version": 3
   },
   "file_extension": ".py",
   "mimetype": "text/x-python",
   "name": "python",
   "nbconvert_exporter": "python",
   "pygments_lexer": "ipython3",
   "version": "3.8.8"
  }
 },
 "nbformat": 4,
 "nbformat_minor": 5
}
