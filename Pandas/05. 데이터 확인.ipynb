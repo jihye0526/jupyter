{
 "cells": [
  {
   "cell_type": "markdown",
   "id": "39ac6290",
   "metadata": {},
   "source": [
    "# 5. 데이터 확인"
   ]
  },
  {
   "cell_type": "code",
   "execution_count": 1,
   "id": "8969169e",
   "metadata": {},
   "outputs": [
    {
     "data": {
      "text/html": [
       "<div>\n",
       "<style scoped>\n",
       "    .dataframe tbody tr th:only-of-type {\n",
       "        vertical-align: middle;\n",
       "    }\n",
       "\n",
       "    .dataframe tbody tr th {\n",
       "        vertical-align: top;\n",
       "    }\n",
       "\n",
       "    .dataframe thead th {\n",
       "        text-align: right;\n",
       "    }\n",
       "</style>\n",
       "<table border=\"1\" class=\"dataframe\">\n",
       "  <thead>\n",
       "    <tr style=\"text-align: right;\">\n",
       "      <th></th>\n",
       "      <th>이름</th>\n",
       "      <th>유닛</th>\n",
       "      <th>나이</th>\n",
       "      <th>생일(월)</th>\n",
       "    </tr>\n",
       "    <tr>\n",
       "      <th>지원번호</th>\n",
       "      <th></th>\n",
       "      <th></th>\n",
       "      <th></th>\n",
       "      <th></th>\n",
       "    </tr>\n",
       "  </thead>\n",
       "  <tbody>\n",
       "    <tr>\n",
       "      <th>1번</th>\n",
       "      <td>최승철</td>\n",
       "      <td>힙합팀</td>\n",
       "      <td>27</td>\n",
       "      <td>8</td>\n",
       "    </tr>\n",
       "    <tr>\n",
       "      <th>2번</th>\n",
       "      <td>윤정한</td>\n",
       "      <td>보컬팀</td>\n",
       "      <td>27</td>\n",
       "      <td>10</td>\n",
       "    </tr>\n",
       "    <tr>\n",
       "      <th>3번</th>\n",
       "      <td>홍지수</td>\n",
       "      <td>보컬팀</td>\n",
       "      <td>27</td>\n",
       "      <td>12</td>\n",
       "    </tr>\n",
       "    <tr>\n",
       "      <th>4번</th>\n",
       "      <td>문준휘</td>\n",
       "      <td>퍼포팀</td>\n",
       "      <td>26</td>\n",
       "      <td>6</td>\n",
       "    </tr>\n",
       "    <tr>\n",
       "      <th>5번</th>\n",
       "      <td>전원우</td>\n",
       "      <td>힙합팀</td>\n",
       "      <td>26</td>\n",
       "      <td>7</td>\n",
       "    </tr>\n",
       "    <tr>\n",
       "      <th>6번</th>\n",
       "      <td>권순영</td>\n",
       "      <td>퍼포팀</td>\n",
       "      <td>26</td>\n",
       "      <td>6</td>\n",
       "    </tr>\n",
       "    <tr>\n",
       "      <th>7번</th>\n",
       "      <td>이지훈</td>\n",
       "      <td>보컬팀</td>\n",
       "      <td>26</td>\n",
       "      <td>11</td>\n",
       "    </tr>\n",
       "    <tr>\n",
       "      <th>8번</th>\n",
       "      <td>서명호</td>\n",
       "      <td>퍼포팀</td>\n",
       "      <td>25</td>\n",
       "      <td>11</td>\n",
       "    </tr>\n",
       "    <tr>\n",
       "      <th>9번</th>\n",
       "      <td>김민규</td>\n",
       "      <td>힙합팀</td>\n",
       "      <td>25</td>\n",
       "      <td>4</td>\n",
       "    </tr>\n",
       "    <tr>\n",
       "      <th>10번</th>\n",
       "      <td>이석민</td>\n",
       "      <td>보컬팀</td>\n",
       "      <td>25</td>\n",
       "      <td>2</td>\n",
       "    </tr>\n",
       "    <tr>\n",
       "      <th>11번</th>\n",
       "      <td>부승관</td>\n",
       "      <td>보컬팀</td>\n",
       "      <td>24</td>\n",
       "      <td>1</td>\n",
       "    </tr>\n",
       "    <tr>\n",
       "      <th>12번</th>\n",
       "      <td>최한솔</td>\n",
       "      <td>힙합팀</td>\n",
       "      <td>24</td>\n",
       "      <td>2</td>\n",
       "    </tr>\n",
       "    <tr>\n",
       "      <th>13번</th>\n",
       "      <td>이찬</td>\n",
       "      <td>퍼포팀</td>\n",
       "      <td>23</td>\n",
       "      <td>2</td>\n",
       "    </tr>\n",
       "  </tbody>\n",
       "</table>\n",
       "</div>"
      ],
      "text/plain": [
       "       이름   유닛  나이  생일(월)\n",
       "지원번호                     \n",
       "1번    최승철  힙합팀  27      8\n",
       "2번    윤정한  보컬팀  27     10\n",
       "3번    홍지수  보컬팀  27     12\n",
       "4번    문준휘  퍼포팀  26      6\n",
       "5번    전원우  힙합팀  26      7\n",
       "6번    권순영  퍼포팀  26      6\n",
       "7번    이지훈  보컬팀  26     11\n",
       "8번    서명호  퍼포팀  25     11\n",
       "9번    김민규  힙합팀  25      4\n",
       "10번   이석민  보컬팀  25      2\n",
       "11번   부승관  보컬팀  24      1\n",
       "12번   최한솔  힙합팀  24      2\n",
       "13번    이찬  퍼포팀  23      2"
      ]
     },
     "execution_count": 1,
     "metadata": {},
     "output_type": "execute_result"
    }
   ],
   "source": [
    "import pandas as pd\n",
    "df = pd.read_excel('C:/Users/samta/PythonDataWorkspace/Pandas/seventeen.xlsx', index_col='지원번호')\n",
    "df"
   ]
  },
  {
   "cell_type": "markdown",
   "id": "bab4a4e5",
   "metadata": {},
   "source": [
    "## DataFrame 확인\n",
    "계산 가능한 데이터에 대해 Column 별로 데이터의 갯수, 평균, 표준편차, 최소/최댓값 등의 정보를 보여줌"
   ]
  },
  {
   "cell_type": "code",
   "execution_count": 2,
   "id": "b5b4a206",
   "metadata": {},
   "outputs": [
    {
     "data": {
      "text/html": [
       "<div>\n",
       "<style scoped>\n",
       "    .dataframe tbody tr th:only-of-type {\n",
       "        vertical-align: middle;\n",
       "    }\n",
       "\n",
       "    .dataframe tbody tr th {\n",
       "        vertical-align: top;\n",
       "    }\n",
       "\n",
       "    .dataframe thead th {\n",
       "        text-align: right;\n",
       "    }\n",
       "</style>\n",
       "<table border=\"1\" class=\"dataframe\">\n",
       "  <thead>\n",
       "    <tr style=\"text-align: right;\">\n",
       "      <th></th>\n",
       "      <th>나이</th>\n",
       "      <th>생일(월)</th>\n",
       "    </tr>\n",
       "  </thead>\n",
       "  <tbody>\n",
       "    <tr>\n",
       "      <th>count</th>\n",
       "      <td>13.000000</td>\n",
       "      <td>13.000000</td>\n",
       "    </tr>\n",
       "    <tr>\n",
       "      <th>mean</th>\n",
       "      <td>25.461538</td>\n",
       "      <td>6.307692</td>\n",
       "    </tr>\n",
       "    <tr>\n",
       "      <th>std</th>\n",
       "      <td>1.265924</td>\n",
       "      <td>3.902662</td>\n",
       "    </tr>\n",
       "    <tr>\n",
       "      <th>min</th>\n",
       "      <td>23.000000</td>\n",
       "      <td>1.000000</td>\n",
       "    </tr>\n",
       "    <tr>\n",
       "      <th>25%</th>\n",
       "      <td>25.000000</td>\n",
       "      <td>2.000000</td>\n",
       "    </tr>\n",
       "    <tr>\n",
       "      <th>50%</th>\n",
       "      <td>26.000000</td>\n",
       "      <td>6.000000</td>\n",
       "    </tr>\n",
       "    <tr>\n",
       "      <th>75%</th>\n",
       "      <td>26.000000</td>\n",
       "      <td>10.000000</td>\n",
       "    </tr>\n",
       "    <tr>\n",
       "      <th>max</th>\n",
       "      <td>27.000000</td>\n",
       "      <td>12.000000</td>\n",
       "    </tr>\n",
       "  </tbody>\n",
       "</table>\n",
       "</div>"
      ],
      "text/plain": [
       "              나이      생일(월)\n",
       "count  13.000000  13.000000\n",
       "mean   25.461538   6.307692\n",
       "std     1.265924   3.902662\n",
       "min    23.000000   1.000000\n",
       "25%    25.000000   2.000000\n",
       "50%    26.000000   6.000000\n",
       "75%    26.000000  10.000000\n",
       "max    27.000000  12.000000"
      ]
     },
     "execution_count": 2,
     "metadata": {},
     "output_type": "execute_result"
    }
   ],
   "source": [
    "df.describe()"
   ]
  },
  {
   "cell_type": "code",
   "execution_count": 3,
   "id": "83cbf907",
   "metadata": {},
   "outputs": [
    {
     "name": "stdout",
     "output_type": "stream",
     "text": [
      "<class 'pandas.core.frame.DataFrame'>\n",
      "Index: 13 entries, 1번 to 13번\n",
      "Data columns (total 4 columns):\n",
      " #   Column  Non-Null Count  Dtype \n",
      "---  ------  --------------  ----- \n",
      " 0   이름      13 non-null     object\n",
      " 1   유닛      13 non-null     object\n",
      " 2   나이      13 non-null     int64 \n",
      " 3   생일(월)   13 non-null     int64 \n",
      "dtypes: int64(2), object(2)\n",
      "memory usage: 520.0+ bytes\n"
     ]
    }
   ],
   "source": [
    "df.info()"
   ]
  },
  {
   "cell_type": "code",
   "execution_count": 4,
   "id": "aa80c48c",
   "metadata": {},
   "outputs": [
    {
     "data": {
      "text/html": [
       "<div>\n",
       "<style scoped>\n",
       "    .dataframe tbody tr th:only-of-type {\n",
       "        vertical-align: middle;\n",
       "    }\n",
       "\n",
       "    .dataframe tbody tr th {\n",
       "        vertical-align: top;\n",
       "    }\n",
       "\n",
       "    .dataframe thead th {\n",
       "        text-align: right;\n",
       "    }\n",
       "</style>\n",
       "<table border=\"1\" class=\"dataframe\">\n",
       "  <thead>\n",
       "    <tr style=\"text-align: right;\">\n",
       "      <th></th>\n",
       "      <th>이름</th>\n",
       "      <th>유닛</th>\n",
       "      <th>나이</th>\n",
       "      <th>생일(월)</th>\n",
       "    </tr>\n",
       "    <tr>\n",
       "      <th>지원번호</th>\n",
       "      <th></th>\n",
       "      <th></th>\n",
       "      <th></th>\n",
       "      <th></th>\n",
       "    </tr>\n",
       "  </thead>\n",
       "  <tbody>\n",
       "    <tr>\n",
       "      <th>1번</th>\n",
       "      <td>최승철</td>\n",
       "      <td>힙합팀</td>\n",
       "      <td>27</td>\n",
       "      <td>8</td>\n",
       "    </tr>\n",
       "    <tr>\n",
       "      <th>2번</th>\n",
       "      <td>윤정한</td>\n",
       "      <td>보컬팀</td>\n",
       "      <td>27</td>\n",
       "      <td>10</td>\n",
       "    </tr>\n",
       "    <tr>\n",
       "      <th>3번</th>\n",
       "      <td>홍지수</td>\n",
       "      <td>보컬팀</td>\n",
       "      <td>27</td>\n",
       "      <td>12</td>\n",
       "    </tr>\n",
       "    <tr>\n",
       "      <th>4번</th>\n",
       "      <td>문준휘</td>\n",
       "      <td>퍼포팀</td>\n",
       "      <td>26</td>\n",
       "      <td>6</td>\n",
       "    </tr>\n",
       "    <tr>\n",
       "      <th>5번</th>\n",
       "      <td>전원우</td>\n",
       "      <td>힙합팀</td>\n",
       "      <td>26</td>\n",
       "      <td>7</td>\n",
       "    </tr>\n",
       "  </tbody>\n",
       "</table>\n",
       "</div>"
      ],
      "text/plain": [
       "       이름   유닛  나이  생일(월)\n",
       "지원번호                     \n",
       "1번    최승철  힙합팀  27      8\n",
       "2번    윤정한  보컬팀  27     10\n",
       "3번    홍지수  보컬팀  27     12\n",
       "4번    문준휘  퍼포팀  26      6\n",
       "5번    전원우  힙합팀  26      7"
      ]
     },
     "execution_count": 4,
     "metadata": {},
     "output_type": "execute_result"
    }
   ],
   "source": [
    "df.head() # 처음 5개의 row 를 가져옴"
   ]
  },
  {
   "cell_type": "code",
   "execution_count": 5,
   "id": "d85b9cd8",
   "metadata": {},
   "outputs": [
    {
     "data": {
      "text/html": [
       "<div>\n",
       "<style scoped>\n",
       "    .dataframe tbody tr th:only-of-type {\n",
       "        vertical-align: middle;\n",
       "    }\n",
       "\n",
       "    .dataframe tbody tr th {\n",
       "        vertical-align: top;\n",
       "    }\n",
       "\n",
       "    .dataframe thead th {\n",
       "        text-align: right;\n",
       "    }\n",
       "</style>\n",
       "<table border=\"1\" class=\"dataframe\">\n",
       "  <thead>\n",
       "    <tr style=\"text-align: right;\">\n",
       "      <th></th>\n",
       "      <th>이름</th>\n",
       "      <th>유닛</th>\n",
       "      <th>나이</th>\n",
       "      <th>생일(월)</th>\n",
       "    </tr>\n",
       "    <tr>\n",
       "      <th>지원번호</th>\n",
       "      <th></th>\n",
       "      <th></th>\n",
       "      <th></th>\n",
       "      <th></th>\n",
       "    </tr>\n",
       "  </thead>\n",
       "  <tbody>\n",
       "    <tr>\n",
       "      <th>1번</th>\n",
       "      <td>최승철</td>\n",
       "      <td>힙합팀</td>\n",
       "      <td>27</td>\n",
       "      <td>8</td>\n",
       "    </tr>\n",
       "    <tr>\n",
       "      <th>2번</th>\n",
       "      <td>윤정한</td>\n",
       "      <td>보컬팀</td>\n",
       "      <td>27</td>\n",
       "      <td>10</td>\n",
       "    </tr>\n",
       "    <tr>\n",
       "      <th>3번</th>\n",
       "      <td>홍지수</td>\n",
       "      <td>보컬팀</td>\n",
       "      <td>27</td>\n",
       "      <td>12</td>\n",
       "    </tr>\n",
       "    <tr>\n",
       "      <th>4번</th>\n",
       "      <td>문준휘</td>\n",
       "      <td>퍼포팀</td>\n",
       "      <td>26</td>\n",
       "      <td>6</td>\n",
       "    </tr>\n",
       "    <tr>\n",
       "      <th>5번</th>\n",
       "      <td>전원우</td>\n",
       "      <td>힙합팀</td>\n",
       "      <td>26</td>\n",
       "      <td>7</td>\n",
       "    </tr>\n",
       "    <tr>\n",
       "      <th>6번</th>\n",
       "      <td>권순영</td>\n",
       "      <td>퍼포팀</td>\n",
       "      <td>26</td>\n",
       "      <td>6</td>\n",
       "    </tr>\n",
       "    <tr>\n",
       "      <th>7번</th>\n",
       "      <td>이지훈</td>\n",
       "      <td>보컬팀</td>\n",
       "      <td>26</td>\n",
       "      <td>11</td>\n",
       "    </tr>\n",
       "  </tbody>\n",
       "</table>\n",
       "</div>"
      ],
      "text/plain": [
       "       이름   유닛  나이  생일(월)\n",
       "지원번호                     \n",
       "1번    최승철  힙합팀  27      8\n",
       "2번    윤정한  보컬팀  27     10\n",
       "3번    홍지수  보컬팀  27     12\n",
       "4번    문준휘  퍼포팀  26      6\n",
       "5번    전원우  힙합팀  26      7\n",
       "6번    권순영  퍼포팀  26      6\n",
       "7번    이지훈  보컬팀  26     11"
      ]
     },
     "execution_count": 5,
     "metadata": {},
     "output_type": "execute_result"
    }
   ],
   "source": [
    "df.head(7) # 처음 7개의 row 를 가져옴"
   ]
  },
  {
   "cell_type": "code",
   "execution_count": 6,
   "id": "d168f5df",
   "metadata": {},
   "outputs": [
    {
     "data": {
      "text/html": [
       "<div>\n",
       "<style scoped>\n",
       "    .dataframe tbody tr th:only-of-type {\n",
       "        vertical-align: middle;\n",
       "    }\n",
       "\n",
       "    .dataframe tbody tr th {\n",
       "        vertical-align: top;\n",
       "    }\n",
       "\n",
       "    .dataframe thead th {\n",
       "        text-align: right;\n",
       "    }\n",
       "</style>\n",
       "<table border=\"1\" class=\"dataframe\">\n",
       "  <thead>\n",
       "    <tr style=\"text-align: right;\">\n",
       "      <th></th>\n",
       "      <th>이름</th>\n",
       "      <th>유닛</th>\n",
       "      <th>나이</th>\n",
       "      <th>생일(월)</th>\n",
       "    </tr>\n",
       "    <tr>\n",
       "      <th>지원번호</th>\n",
       "      <th></th>\n",
       "      <th></th>\n",
       "      <th></th>\n",
       "      <th></th>\n",
       "    </tr>\n",
       "  </thead>\n",
       "  <tbody>\n",
       "    <tr>\n",
       "      <th>9번</th>\n",
       "      <td>김민규</td>\n",
       "      <td>힙합팀</td>\n",
       "      <td>25</td>\n",
       "      <td>4</td>\n",
       "    </tr>\n",
       "    <tr>\n",
       "      <th>10번</th>\n",
       "      <td>이석민</td>\n",
       "      <td>보컬팀</td>\n",
       "      <td>25</td>\n",
       "      <td>2</td>\n",
       "    </tr>\n",
       "    <tr>\n",
       "      <th>11번</th>\n",
       "      <td>부승관</td>\n",
       "      <td>보컬팀</td>\n",
       "      <td>24</td>\n",
       "      <td>1</td>\n",
       "    </tr>\n",
       "    <tr>\n",
       "      <th>12번</th>\n",
       "      <td>최한솔</td>\n",
       "      <td>힙합팀</td>\n",
       "      <td>24</td>\n",
       "      <td>2</td>\n",
       "    </tr>\n",
       "    <tr>\n",
       "      <th>13번</th>\n",
       "      <td>이찬</td>\n",
       "      <td>퍼포팀</td>\n",
       "      <td>23</td>\n",
       "      <td>2</td>\n",
       "    </tr>\n",
       "  </tbody>\n",
       "</table>\n",
       "</div>"
      ],
      "text/plain": [
       "       이름   유닛  나이  생일(월)\n",
       "지원번호                     \n",
       "9번    김민규  힙합팀  25      4\n",
       "10번   이석민  보컬팀  25      2\n",
       "11번   부승관  보컬팀  24      1\n",
       "12번   최한솔  힙합팀  24      2\n",
       "13번    이찬  퍼포팀  23      2"
      ]
     },
     "execution_count": 6,
     "metadata": {},
     "output_type": "execute_result"
    }
   ],
   "source": [
    "df.tail() # 마지막 5개의 row 를 가져옴"
   ]
  },
  {
   "cell_type": "code",
   "execution_count": 7,
   "id": "c1b8b746",
   "metadata": {},
   "outputs": [
    {
     "data": {
      "text/html": [
       "<div>\n",
       "<style scoped>\n",
       "    .dataframe tbody tr th:only-of-type {\n",
       "        vertical-align: middle;\n",
       "    }\n",
       "\n",
       "    .dataframe tbody tr th {\n",
       "        vertical-align: top;\n",
       "    }\n",
       "\n",
       "    .dataframe thead th {\n",
       "        text-align: right;\n",
       "    }\n",
       "</style>\n",
       "<table border=\"1\" class=\"dataframe\">\n",
       "  <thead>\n",
       "    <tr style=\"text-align: right;\">\n",
       "      <th></th>\n",
       "      <th>이름</th>\n",
       "      <th>유닛</th>\n",
       "      <th>나이</th>\n",
       "      <th>생일(월)</th>\n",
       "    </tr>\n",
       "    <tr>\n",
       "      <th>지원번호</th>\n",
       "      <th></th>\n",
       "      <th></th>\n",
       "      <th></th>\n",
       "      <th></th>\n",
       "    </tr>\n",
       "  </thead>\n",
       "  <tbody>\n",
       "    <tr>\n",
       "      <th>11번</th>\n",
       "      <td>부승관</td>\n",
       "      <td>보컬팀</td>\n",
       "      <td>24</td>\n",
       "      <td>1</td>\n",
       "    </tr>\n",
       "    <tr>\n",
       "      <th>12번</th>\n",
       "      <td>최한솔</td>\n",
       "      <td>힙합팀</td>\n",
       "      <td>24</td>\n",
       "      <td>2</td>\n",
       "    </tr>\n",
       "    <tr>\n",
       "      <th>13번</th>\n",
       "      <td>이찬</td>\n",
       "      <td>퍼포팀</td>\n",
       "      <td>23</td>\n",
       "      <td>2</td>\n",
       "    </tr>\n",
       "  </tbody>\n",
       "</table>\n",
       "</div>"
      ],
      "text/plain": [
       "       이름   유닛  나이  생일(월)\n",
       "지원번호                     \n",
       "11번   부승관  보컬팀  24      1\n",
       "12번   최한솔  힙합팀  24      2\n",
       "13번    이찬  퍼포팀  23      2"
      ]
     },
     "execution_count": 7,
     "metadata": {},
     "output_type": "execute_result"
    }
   ],
   "source": [
    "df.tail(3) # 마지막 3개의 row 를 가져옴"
   ]
  },
  {
   "cell_type": "code",
   "execution_count": 10,
   "id": "26ee1590",
   "metadata": {},
   "outputs": [
    {
     "data": {
      "text/plain": [
       "array([['최승철', '힙합팀', 27, 8],\n",
       "       ['윤정한', '보컬팀', 27, 10],\n",
       "       ['홍지수', '보컬팀', 27, 12],\n",
       "       ['문준휘', '퍼포팀', 26, 6],\n",
       "       ['전원우', '힙합팀', 26, 7],\n",
       "       ['권순영', '퍼포팀', 26, 6],\n",
       "       ['이지훈', '보컬팀', 26, 11],\n",
       "       ['서명호', '퍼포팀', 25, 11],\n",
       "       ['김민규', '힙합팀', 25, 4],\n",
       "       ['이석민', '보컬팀', 25, 2],\n",
       "       ['부승관', '보컬팀', 24, 1],\n",
       "       ['최한솔', '힙합팀', 24, 2],\n",
       "       ['이찬', '퍼포팀', 23, 2]], dtype=object)"
      ]
     },
     "execution_count": 10,
     "metadata": {},
     "output_type": "execute_result"
    }
   ],
   "source": [
    "df.values"
   ]
  },
  {
   "cell_type": "code",
   "execution_count": 11,
   "id": "12386a58",
   "metadata": {},
   "outputs": [
    {
     "data": {
      "text/plain": [
       "Index(['1번', '2번', '3번', '4번', '5번', '6번', '7번', '8번', '9번', '10번', '11번',\n",
       "       '12번', '13번'],\n",
       "      dtype='object', name='지원번호')"
      ]
     },
     "execution_count": 11,
     "metadata": {},
     "output_type": "execute_result"
    }
   ],
   "source": [
    "df.index"
   ]
  },
  {
   "cell_type": "code",
   "execution_count": 12,
   "id": "cb03e35a",
   "metadata": {},
   "outputs": [
    {
     "data": {
      "text/plain": [
       "Index(['이름', '유닛', '나이', '생일(월)'], dtype='object')"
      ]
     },
     "execution_count": 12,
     "metadata": {},
     "output_type": "execute_result"
    }
   ],
   "source": [
    "df.columns"
   ]
  },
  {
   "cell_type": "code",
   "execution_count": 13,
   "id": "8a37dc73",
   "metadata": {},
   "outputs": [
    {
     "data": {
      "text/plain": [
       "(13, 4)"
      ]
     },
     "execution_count": 13,
     "metadata": {},
     "output_type": "execute_result"
    }
   ],
   "source": [
    "df.shape # row, column"
   ]
  },
  {
   "cell_type": "code",
   "execution_count": 14,
   "id": "60dd1c54",
   "metadata": {},
   "outputs": [
    {
     "data": {
      "text/html": [
       "<div>\n",
       "<style scoped>\n",
       "    .dataframe tbody tr th:only-of-type {\n",
       "        vertical-align: middle;\n",
       "    }\n",
       "\n",
       "    .dataframe tbody tr th {\n",
       "        vertical-align: top;\n",
       "    }\n",
       "\n",
       "    .dataframe thead th {\n",
       "        text-align: right;\n",
       "    }\n",
       "</style>\n",
       "<table border=\"1\" class=\"dataframe\">\n",
       "  <thead>\n",
       "    <tr style=\"text-align: right;\">\n",
       "      <th></th>\n",
       "      <th>이름</th>\n",
       "      <th>유닛</th>\n",
       "      <th>나이</th>\n",
       "      <th>생일(월)</th>\n",
       "    </tr>\n",
       "    <tr>\n",
       "      <th>지원번호</th>\n",
       "      <th></th>\n",
       "      <th></th>\n",
       "      <th></th>\n",
       "      <th></th>\n",
       "    </tr>\n",
       "  </thead>\n",
       "  <tbody>\n",
       "    <tr>\n",
       "      <th>1번</th>\n",
       "      <td>최승철</td>\n",
       "      <td>힙합팀</td>\n",
       "      <td>27</td>\n",
       "      <td>8</td>\n",
       "    </tr>\n",
       "    <tr>\n",
       "      <th>2번</th>\n",
       "      <td>윤정한</td>\n",
       "      <td>보컬팀</td>\n",
       "      <td>27</td>\n",
       "      <td>10</td>\n",
       "    </tr>\n",
       "    <tr>\n",
       "      <th>3번</th>\n",
       "      <td>홍지수</td>\n",
       "      <td>보컬팀</td>\n",
       "      <td>27</td>\n",
       "      <td>12</td>\n",
       "    </tr>\n",
       "    <tr>\n",
       "      <th>4번</th>\n",
       "      <td>문준휘</td>\n",
       "      <td>퍼포팀</td>\n",
       "      <td>26</td>\n",
       "      <td>6</td>\n",
       "    </tr>\n",
       "    <tr>\n",
       "      <th>5번</th>\n",
       "      <td>전원우</td>\n",
       "      <td>힙합팀</td>\n",
       "      <td>26</td>\n",
       "      <td>7</td>\n",
       "    </tr>\n",
       "    <tr>\n",
       "      <th>6번</th>\n",
       "      <td>권순영</td>\n",
       "      <td>퍼포팀</td>\n",
       "      <td>26</td>\n",
       "      <td>6</td>\n",
       "    </tr>\n",
       "    <tr>\n",
       "      <th>7번</th>\n",
       "      <td>이지훈</td>\n",
       "      <td>보컬팀</td>\n",
       "      <td>26</td>\n",
       "      <td>11</td>\n",
       "    </tr>\n",
       "    <tr>\n",
       "      <th>8번</th>\n",
       "      <td>서명호</td>\n",
       "      <td>퍼포팀</td>\n",
       "      <td>25</td>\n",
       "      <td>11</td>\n",
       "    </tr>\n",
       "    <tr>\n",
       "      <th>9번</th>\n",
       "      <td>김민규</td>\n",
       "      <td>힙합팀</td>\n",
       "      <td>25</td>\n",
       "      <td>4</td>\n",
       "    </tr>\n",
       "    <tr>\n",
       "      <th>10번</th>\n",
       "      <td>이석민</td>\n",
       "      <td>보컬팀</td>\n",
       "      <td>25</td>\n",
       "      <td>2</td>\n",
       "    </tr>\n",
       "    <tr>\n",
       "      <th>11번</th>\n",
       "      <td>부승관</td>\n",
       "      <td>보컬팀</td>\n",
       "      <td>24</td>\n",
       "      <td>1</td>\n",
       "    </tr>\n",
       "    <tr>\n",
       "      <th>12번</th>\n",
       "      <td>최한솔</td>\n",
       "      <td>힙합팀</td>\n",
       "      <td>24</td>\n",
       "      <td>2</td>\n",
       "    </tr>\n",
       "    <tr>\n",
       "      <th>13번</th>\n",
       "      <td>이찬</td>\n",
       "      <td>퍼포팀</td>\n",
       "      <td>23</td>\n",
       "      <td>2</td>\n",
       "    </tr>\n",
       "  </tbody>\n",
       "</table>\n",
       "</div>"
      ],
      "text/plain": [
       "       이름   유닛  나이  생일(월)\n",
       "지원번호                     \n",
       "1번    최승철  힙합팀  27      8\n",
       "2번    윤정한  보컬팀  27     10\n",
       "3번    홍지수  보컬팀  27     12\n",
       "4번    문준휘  퍼포팀  26      6\n",
       "5번    전원우  힙합팀  26      7\n",
       "6번    권순영  퍼포팀  26      6\n",
       "7번    이지훈  보컬팀  26     11\n",
       "8번    서명호  퍼포팀  25     11\n",
       "9번    김민규  힙합팀  25      4\n",
       "10번   이석민  보컬팀  25      2\n",
       "11번   부승관  보컬팀  24      1\n",
       "12번   최한솔  힙합팀  24      2\n",
       "13번    이찬  퍼포팀  23      2"
      ]
     },
     "execution_count": 14,
     "metadata": {},
     "output_type": "execute_result"
    }
   ],
   "source": [
    "df"
   ]
  },
  {
   "cell_type": "markdown",
   "id": "72de8ffd",
   "metadata": {},
   "source": [
    "## Series 확인"
   ]
  },
  {
   "cell_type": "code",
   "execution_count": 20,
   "id": "928e9de0",
   "metadata": {},
   "outputs": [
    {
     "data": {
      "text/plain": [
       "count    13.000000\n",
       "mean     25.461538\n",
       "std       1.265924\n",
       "min      23.000000\n",
       "25%      25.000000\n",
       "50%      26.000000\n",
       "75%      26.000000\n",
       "max      27.000000\n",
       "Name: 나이, dtype: float64"
      ]
     },
     "execution_count": 20,
     "metadata": {},
     "output_type": "execute_result"
    }
   ],
   "source": [
    "df['나이'].describe()"
   ]
  },
  {
   "cell_type": "code",
   "execution_count": 21,
   "id": "bfe3b0b8",
   "metadata": {},
   "outputs": [
    {
     "data": {
      "text/plain": [
       "23"
      ]
     },
     "execution_count": 21,
     "metadata": {},
     "output_type": "execute_result"
    }
   ],
   "source": [
    "df['나이'].min()"
   ]
  },
  {
   "cell_type": "code",
   "execution_count": 22,
   "id": "9ee29973",
   "metadata": {},
   "outputs": [
    {
     "data": {
      "text/plain": [
       "27"
      ]
     },
     "execution_count": 22,
     "metadata": {},
     "output_type": "execute_result"
    }
   ],
   "source": [
    "df['나이'].max()"
   ]
  },
  {
   "cell_type": "code",
   "execution_count": 23,
   "id": "ecca3b0a",
   "metadata": {},
   "outputs": [
    {
     "data": {
      "text/plain": [
       "지원번호\n",
       "1번    27\n",
       "2번    27\n",
       "3번    27\n",
       "Name: 나이, dtype: int64"
      ]
     },
     "execution_count": 23,
     "metadata": {},
     "output_type": "execute_result"
    }
   ],
   "source": [
    "df['나이'].nlargest(3) # 나이 많은 순서대로 3명 데이터"
   ]
  },
  {
   "cell_type": "code",
   "execution_count": 24,
   "id": "c6a1feef",
   "metadata": {},
   "outputs": [
    {
     "data": {
      "text/plain": [
       "25.46153846153846"
      ]
     },
     "execution_count": 24,
     "metadata": {},
     "output_type": "execute_result"
    }
   ],
   "source": [
    "df['나이'].mean()"
   ]
  },
  {
   "cell_type": "code",
   "execution_count": 26,
   "id": "b5a3a2e0",
   "metadata": {},
   "outputs": [
    {
     "data": {
      "text/plain": [
       "331"
      ]
     },
     "execution_count": 26,
     "metadata": {},
     "output_type": "execute_result"
    }
   ],
   "source": [
    "df['나이'].sum()"
   ]
  },
  {
   "cell_type": "code",
   "execution_count": 27,
   "id": "9a90e44b",
   "metadata": {},
   "outputs": [
    {
     "data": {
      "text/plain": [
       "13"
      ]
     },
     "execution_count": 27,
     "metadata": {},
     "output_type": "execute_result"
    }
   ],
   "source": [
    "df['이름'].count() # NaN 이 있을 경우 제외하고 count"
   ]
  },
  {
   "cell_type": "code",
   "execution_count": 29,
   "id": "82bfe24f",
   "metadata": {},
   "outputs": [
    {
     "data": {
      "text/plain": [
       "array(['힙합팀', '보컬팀', '퍼포팀'], dtype=object)"
      ]
     },
     "execution_count": 29,
     "metadata": {},
     "output_type": "execute_result"
    }
   ],
   "source": [
    "df['유닛'].unique()"
   ]
  },
  {
   "cell_type": "code",
   "execution_count": 30,
   "id": "52ba79b5",
   "metadata": {},
   "outputs": [
    {
     "data": {
      "text/plain": [
       "3"
      ]
     },
     "execution_count": 30,
     "metadata": {},
     "output_type": "execute_result"
    }
   ],
   "source": [
    "df['유닛'].nunique()"
   ]
  }
 ],
 "metadata": {
  "kernelspec": {
   "display_name": "Python 3",
   "language": "python",
   "name": "python3"
  },
  "language_info": {
   "codemirror_mode": {
    "name": "ipython",
    "version": 3
   },
   "file_extension": ".py",
   "mimetype": "text/x-python",
   "name": "python",
   "nbconvert_exporter": "python",
   "pygments_lexer": "ipython3",
   "version": "3.8.8"
  }
 },
 "nbformat": 4,
 "nbformat_minor": 5
}
